{
 "cells": [
  {
   "cell_type": "markdown",
   "id": "261fcdc1",
   "metadata": {},
   "source": [
    "### Задание 1."
   ]
  },
  {
   "cell_type": "code",
   "execution_count": 9,
   "id": "9d6992e2",
   "metadata": {},
   "outputs": [],
   "source": [
    "import numpy as np"
   ]
  },
  {
   "cell_type": "code",
   "execution_count": 10,
   "id": "5558974c",
   "metadata": {},
   "outputs": [
    {
     "name": "stdout",
     "output_type": "stream",
     "text": [
      "[[-1.22474487 -1.22474487 -1.22474487]\n",
      " [ 0.          0.          0.        ]\n",
      " [ 1.22474487  1.22474487  1.22474487]]\n"
     ]
    }
   ],
   "source": [
    "A = np.array([[1,4,7],[2,5,8],[3,6,9]])\n",
    "def standard_scaler(A):\n",
    "    return (A - A.mean(axis=0)) / A.std(axis=0)\n",
    "print(standard_scaler(A))"
   ]
  },
  {
   "cell_type": "markdown",
   "id": "99e7ab46",
   "metadata": {},
   "source": [
    "### Задание 2."
   ]
  },
  {
   "cell_type": "code",
   "execution_count": 40,
   "id": "d45bff2a",
   "metadata": {},
   "outputs": [
    {
     "data": {
      "text/plain": [
       "array([ 1.        ,  0.28747979, -0.48202707, -0.15691148,  1.        ,\n",
       "       -0.39336863, -0.95422628,  1.        ,  0.5119947 ,  1.        ])"
      ]
     },
     "execution_count": 40,
     "metadata": {},
     "output_type": "execute_result"
    }
   ],
   "source": [
    "A = np.array([[0, 2, 4, 1, 2],\n",
    "       [6, 5, 6, 1, 7],\n",
    "       [4, 4, 2, 7, 7],\n",
    "       [1, 4, 2, 8, 2],\n",
    "       [4, 3, 1, 4, 6],\n",
    "       [3, 3, 9, 9, 1],\n",
    "       [5, 1, 1, 9, 2],\n",
    "       [0, 0, 0, 9, 5],\n",
    "       [5, 3, 6, 4, 9],\n",
    "       [8, 8, 2, 7, 2],\n",
    "       [7, 9, 7, 4, 1],\n",
    "       [3, 5, 7, 0, 2],\n",
    "       [0, 2, 2, 5, 5],\n",
    "       [4, 8, 0, 9, 0]])\n",
    "def get_corcoefs(A):\n",
    "    R1 = np.corrcoef(A)\n",
    "    return R1[np.triu_indices(4)]\n",
    "get_corcoefs(A)"
   ]
  },
  {
   "cell_type": "code",
   "execution_count": null,
   "id": "09d0f573",
   "metadata": {},
   "outputs": [],
   "source": []
  },
  {
   "cell_type": "code",
   "execution_count": 101,
   "id": "7c7090f7",
   "metadata": {},
   "outputs": [
    {
     "name": "stdout",
     "output_type": "stream",
     "text": [
      "[[0 0 0 0 0 0 0 0 0 0]\n",
      " [7 0 7 0 7 0 7 0 7 0]\n",
      " [0 0 0 0 0 0 0 0 0 0]\n",
      " [7 0 7 0 7 0 7 0 7 0]\n",
      " [0 0 0 0 0 0 0 0 0 0]\n",
      " [7 0 7 0 7 0 7 0 7 0]\n",
      " [0 0 0 0 0 0 0 0 0 0]\n",
      " [7 0 7 0 7 0 7 0 7 0]\n",
      " [0 0 0 0 0 0 0 0 0 0]\n",
      " [7 0 7 0 7 0 7 0 7 0]]\n",
      "(array([1, 3, 5, 7, 9], dtype=int64),)\n"
     ]
    }
   ],
   "source": [
    "Z = np.zeros((10,10),dtype=int)\n",
    "\n",
    "#Z[1::2,::2] = 7\n",
    "#print(Z)\n",
    "\n",
    "\n",
    "#np.where(Z[:,0] != 0)[0]\n",
    "def nul_column():\n",
    "    Z = np.zeros((10,10),dtype=int)\n",
    "    Z[1::2,::2] = 7\n",
    "    print(Z)\n",
    "    print(np.where(Z[:,0] != 0))\n",
    "nul_column()"
   ]
  },
  {
   "cell_type": "code",
   "execution_count": null,
   "id": "5393ffa1",
   "metadata": {},
   "outputs": [],
   "source": []
  }
 ],
 "metadata": {
  "kernelspec": {
   "display_name": "Python 3 (ipykernel)",
   "language": "python",
   "name": "python3"
  },
  "language_info": {
   "codemirror_mode": {
    "name": "ipython",
    "version": 3
   },
   "file_extension": ".py",
   "mimetype": "text/x-python",
   "name": "python",
   "nbconvert_exporter": "python",
   "pygments_lexer": "ipython3",
   "version": "3.9.12"
  }
 },
 "nbformat": 4,
 "nbformat_minor": 5
}
